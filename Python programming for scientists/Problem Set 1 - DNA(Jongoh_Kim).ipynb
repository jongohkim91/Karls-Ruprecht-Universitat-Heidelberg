{
 "cells": [
  {
   "cell_type": "code",
   "execution_count": 1,
   "metadata": {},
   "outputs": [
    {
     "name": "stdout",
     "output_type": "stream",
     "text": [
      "TACGCGCCTAGCATGGATTAGCTACCGTAATCGGCTCGGGCTAATGCG\n"
     ]
    }
   ],
   "source": [
    "#QUESTION 1\n",
    "def reverse_complement(string):\n",
    "    answer = \"\"\n",
    "    \n",
    "    for char in string:\n",
    "        if char == \"A\":\n",
    "            answer = answer + \"T\"\n",
    "        elif char == \"T\":\n",
    "            answer = answer + \"A\"\n",
    "        elif char == \"G\":\n",
    "            answer = answer + \"C\"\n",
    "        elif char == \"C\":\n",
    "            answer = answer + \"G\"\n",
    "    print(answer)\n",
    "    #return(answer)\n",
    "\n",
    "reverse_complement(\"ATGCGCGGATCGTACCTAATCGATGGCATTAGCCGAGCCCGATTACGC\")"
   ]
  },
  {
   "cell_type": "code",
   "execution_count": 5,
   "metadata": {},
   "outputs": [
    {
     "name": "stdout",
     "output_type": "stream",
     "text": [
      "AUCGCGAU\n"
     ]
    }
   ],
   "source": [
    "#QUESTION 2\n",
    "def dna_to_mrna(string):\n",
    "    answer = \"\"\n",
    "    \n",
    "    for char in string:\n",
    "        if char == \"T\":\n",
    "            answer = answer + \"U\"\n",
    "        else:\n",
    "            answer = answer + char\n",
    "    \n",
    "    return(answer)\n",
    "\n",
    "print(dna_to_mrna(\"ATCGCGAT\"))"
   ]
  },
  {
   "cell_type": "code",
   "execution_count": 3,
   "metadata": {},
   "outputs": [
    {
     "name": "stdout",
     "output_type": "stream",
     "text": [
      "The DNA sequence is AATCTCTACGGAAGTAGGTCAGTACTGATCGATCAGTCGATCGGGCGGCGATTTCGATCTGATTGTACGGCGGGCTAG\n",
      "The mRNA sequence is AAUCUCUACGGAAGUAGGUCAGUACUGAUCGAUCAGUCGAUCGGGCGGCGAUUUCGAUCUGAUUGUACGGCGGGCUAG\n",
      "The amino acid sequence is  NLYGSRSVLIDQSIGRRFRSDCTAG\n"
     ]
    }
   ],
   "source": [
    "#QUESTION 3\n",
    "def mrna_to_protein(string):\n",
    "    answer = \"\"\n",
    "    dic = {} #dictionary for codons and amino acids\n",
    "    abc = \"\" #the string which would take 3 letters\n",
    "    \n",
    "    #reading the txt file\n",
    "    f = open(\"data/problem_1_codons.txt\", \"r\")\n",
    "    \n",
    "    for line in f:\n",
    "        line = line.strip()\n",
    "        columns = line.split()\n",
    "        #print(columns)\n",
    "        codon = columns[0] #retrieving codons\n",
    "        amino = columns[1] #retrieving amino acids\n",
    "        dic[codon] = amino #making a dictionary where codons are keys and amino acids are values\n",
    "    f.close\n",
    "    \n",
    "    #checking whether the dictionary is properly made\n",
    "    #for key in dic:\n",
    "    #    print(key, dic[key])\n",
    "    \n",
    "    #DNA sequence to RNA\n",
    "    print(\"The DNA sequence is \" + string)\n",
    "    string = dna_to_mrna(string)\n",
    "    print(\"The mRNA sequence is \" + string)\n",
    "    \n",
    "    #RNA to Protein sequence\n",
    "    for char in string:\n",
    "        abc = abc + char\n",
    "        #print(abc) #to check\n",
    "        if len(abc)==3:\n",
    "            #print(dic[abc]) #to check\n",
    "            if(dic[abc] != \"Stop\"):\n",
    "                answer += dic[abc]\n",
    "                abc = \"\"\n",
    "                #print(answer) #to check\n",
    "            else:\n",
    "                #print(abc)\n",
    "                break\n",
    "    \n",
    "    return(answer)\n",
    "\n",
    "print(\"The amino acid sequence is \", mrna_to_protein(\"AATCTCTACGGAAGTAGGTCAGTACTGATCGATCAGTCGATCGGGCGGCGATTTCGATCTGATTGTACGGCGGGCTAG\"))\n",
    "\n"
   ]
  },
  {
   "cell_type": "code",
   "execution_count": 4,
   "metadata": {},
   "outputs": [
    {
     "name": "stdout",
     "output_type": "stream",
     "text": [
      "sequence_01: UAUAAGUUUGCAGGUUACCAGGCAAUCAUUGGGCCUCGCCCAGCAACUUCUAAGGGGCUUCGCUUGACAGCGAUCCAAUGGCGUCACCUCAGAUGGCCUAUUAUCUGUAUUCCUGAAGAGCAUUGGUACUGA\n",
      "sequence_02: AGAUCAUUCUGCACCGGACACCCCUCUUACUGUCGCCUCUUCUUUGGCCGGAAAAUGCAGUCUUCAUUCGCCCCUAGGUGA\n",
      "sequence_03: CGUCCCGAGCGUUUCGGUGCAAGCAGAUAUACAAUAUGUGUUCACGUGUCGGACAACCCACCGGUUAGCACGCUCCUUUCCAAAGAGCAAACAGGAGGGGCGUAG\n",
      "sequence_04: UGCAUGUCCAGUCGCAAUGCCAUAACUGGCUGCAUCACGUGCGUCGGUCAUAUAAUGGGUGUUCGGCUGUAUGACUGA\n",
      "sequence_05: ACUUUGAUUACUCCACUAGGAUAUCCAGGGAGGAUAGGGGAGUUGCGUGGCUUAGUCUACGUAAGGGGACAUCACCAGGUUCCGUCAAUGUGUACGUAUUCUUGA\n",
      "sequence_06: UGUAUUGAGCCGGAGCUCCAGGCUACUAGGGUCAAGGCAACGUUCUCGUUCGCGAGUUGCCCAUCCGACAUGUUCUCGAAGUCGCCGUUAUAG\n",
      "sequence_07: UGUGUAGCCCGAACUGGGUGGCAAAUGCGCACAGCCCCCGUGAGCUUCGCGCCGUCUCCUCCUAUCAAUGCGCCUAAACGAACCCCGUCAAUUCGGUGGAUGUCUUUCCUGAUUCCGUGA\n",
      "sequence_08: GACCCGCUGAGAUUCUCUGUUGGGACUGAGCGACGAGGUAGCGCUUUGGUGUUCUUCAUCUUAGGAGGCAUUUAA\n",
      "sequence_09: UUAACUUUUGAGUUCCUUGCACGGGGUGACCAGUUCAGUACUUGGUGGUUGUGA\n",
      "sequence_10: CCGUCGGAAAAUCCAAAUGUAAGUUCCCGCCCGCCGCCAAUGAUAUUCACGGACUUCACCUAG\n",
      "sequence_11: AGAGCUCUGGGUGCUACGGUUAACAUGCUGGGGUACCAUGUGUUCCCGAAUUGA\n",
      "sequence_12: CGACCAUUUCCAGCAGUAUGUCGUAUCAAAUUCUUUUGGCCGUACAUCAGUAUAAAAGAGGGAUCCGCAAAUGCCUCCAACACCACGAACUGCUAA\n",
      "sequence_13: CUGAAGGGUAUCAUCCGUUGUAGCGACUCGAAUUGUUCAAGCCCCAUCUUCGGUCCUUCUCAGGAAAUUCAGAUGUAG\n",
      "sequence_14: AUAAUGACGAACCCCACCCUAAACAAGGAUACCGCGUAG\n",
      "sequence_15: GGGCAGCAACACUCAAUGGGGACACUCUAUAAAAUGUAA\n",
      "sequence_16: GCUAUCCGCUGCCGGGUUGCUAUCGAAUCAGACCUGACCGUAGUCGCCCGACUAGUGUAUAUAGUCCCGUGUACCCCCAGUGACUCUCGAAACUAUCCAAAUUCGUCUGGGUUCAAACCAAUUAGCAAGACACAAAAUCUCUAA\n",
      "sequence_17: AAAUGUCGACGUUUUAGACAGACGACAACGUACAAGCCGUGUAGUUGCUCAGUGAUUCGCUGUACCCGGGAACAACAGGACUGA\n",
      "sequence_18: UUAGAGCUAUUCGGUGAGGACGACACGGUCGAGUAG\n",
      "sequence_19: GGGCUCCUACCAGACUCGUAUCGUGUCAGCCUUUCGCUACAAAGGACUACGCUAUGCCUUACGAUUGUAUGCUCGGGCCUCUGCGGCUUACCUGACCUCAUGAACCUCGAGUCUCGAUUUCAUAUGCAGAGUGUGACAUUCUGA\n",
      "sequence_20: UGUGCAAGUGCGUAUAGCCCUAAAGGACGUGCUGCUAAGUUAGUCCUACUGAAAUAA\n"
     ]
    }
   ],
   "source": [
    "#QUESTION 4\n",
    "def read_fasta(file):\n",
    "    f = open (file, \"r\")\n",
    "    text = f.read()\n",
    "    dna = \"\"\n",
    "    dic = {}\n",
    "    line_list = list() #list of lines\n",
    "    \n",
    "    #checking the file\n",
    "    #for char in text:\n",
    "    #    print(repr(char))\n",
    "    \n",
    "    #retrieving the lines of fasta file\n",
    "    line = \"\"\n",
    "    for char in text:\n",
    "        if char!='\\n': #until the line ends!\n",
    "            line += char\n",
    "            continue\n",
    "        else:\n",
    "            line_list.append(line)\n",
    "            line=\"\"\n",
    "        \n",
    "    \n",
    "    #building the dictionary\n",
    "    for line in line_list:\n",
    "        #print(repr(line))\n",
    "                \n",
    "        if line[0] == \">\": #for the lines start with >\n",
    "            label = line[1:] #removing > from the label\n",
    "            dic[label] = []\n",
    "            #print(label)\n",
    "            dna=\"\"\n",
    "        \n",
    "        else:\n",
    "            dna += line #getting the DNA sequence\n",
    "            dic[label] = (dna) #adding the DNA sequence into the dictionary\n",
    "            \n",
    "            #print(dna)\n",
    "            #print(\"the value in dictionary is \", label , \" : \", dic[label])\n",
    "    \n",
    "    return(dic)\n",
    "\n",
    "d = read_fasta(\"data/problem_1_question_4.fasta\")\n",
    "\n",
    "#converting DNA seq. to RNA seq.\n",
    "for key in d:\n",
    "    d[key] = dna_to_mrna(d[key])\n",
    "    print(key + \": \" + d[key])"
   ]
  },
  {
   "cell_type": "code",
   "execution_count": null,
   "metadata": {},
   "outputs": [],
   "source": []
  }
 ],
 "metadata": {
  "kernelspec": {
   "display_name": "Python 3",
   "language": "python",
   "name": "python3"
  },
  "language_info": {
   "codemirror_mode": {
    "name": "ipython",
    "version": 3
   },
   "file_extension": ".py",
   "mimetype": "text/x-python",
   "name": "python",
   "nbconvert_exporter": "python",
   "pygments_lexer": "ipython3",
   "version": "3.7.1"
  }
 },
 "nbformat": 4,
 "nbformat_minor": 2
}
